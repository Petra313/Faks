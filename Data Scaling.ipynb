{
  "cells": [
    {
      "cell_type": "markdown",
      "metadata": {
        "id": "ZT4Si1B6Q6Ho"
      },
      "source": [
        "# VRSTE SKALIRANJA"
      ]
    },
    {
      "cell_type": "markdown",
      "source": [
        "Skaliranje koristimo u situacijama u kojima su rasponi vrijednosti značajki u različitim skalama mjerenja. Kada ne bismo koristili skaliranje vrijednosti čije bi mjere u većim mjernim skalama imale više utjecala na naša predviđanja."
      ],
      "metadata": {
        "id": "hVn9UR6NTwOb"
      }
    },
    {
      "cell_type": "markdown",
      "metadata": {
        "id": "lQ5j-AAKRCJW"
      },
      "source": [
        "### Min Max Scaler"
      ]
    },
    {
      "cell_type": "markdown",
      "metadata": {
        "id": "TkPPL-p0R2eH"
      },
      "source": [
        "Za svaku vrijednost neke značajke, MinMax Scaler oduzima minimalnu vrijednost značajke te dobivenu vrijednost dijeli rasponom vrijednosti značajke.\n",
        "\n",
        "MinMax Scaler zadržava oblik orginalne distribucije i ne umanjuje utjecaj outliera. Default vrijednosti koje vraća MinMax Scaler su u rasponu od 0 do 1.\n",
        "\n",
        "Koristi se ako su nam vrijednosti gornje i donje granice poznate iz domenskog znanja. Skaliranje podatke sažima u uži skup."
      ]
    },
    {
      "cell_type": "code",
      "execution_count": null,
      "metadata": {
        "colab": {
          "base_uri": "https://localhost:8080/"
        },
        "id": "N9YqRShrQ4VH",
        "outputId": "7d420349-9c9a-449f-90b5-30fcce7ffbd2"
      },
      "outputs": [
        {
          "output_type": "stream",
          "name": "stdout",
          "text": [
            "(150, 4)\n",
            "True\n"
          ]
        }
      ],
      "source": [
        "from sklearn.datasets import load_iris\n",
        "from sklearn.preprocessing import MinMaxScaler\n",
        "import numpy as np\n",
        "import seaborn as sns\n",
        "import pandas as pd\n",
        "\n",
        "# use the iris dataset\n",
        "X, y = load_iris(return_X_y=True)\n",
        "print(X.shape)\n",
        "# (150, 4) # 150 samples (rows) with 4 features/variables (columns)\n",
        "# build the scaler model\n",
        "scaler = MinMaxScaler()\n",
        "# fit using the train set\n",
        "scaler.fit(X)\n",
        "# transform the test test\n",
        "X_scaled = scaler.transform(X)\n",
        "# Verify minimum value of all features\n",
        "X_scaled.min(axis=0)\n",
        "# array([0., 0., 0., 0.])\n",
        "# Verify maximum value of all features\n",
        "X_scaled.max(axis=0)\n",
        "# array([1., 1., 1., 1.])\n",
        "# Manually normalise without using scikit-learn\n",
        "X_manual_scaled = (X - X.min(axis=0)) / (X.max(axis=0) - X.min(axis=0))\n",
        "# Verify manually VS scikit-learn estimation\n",
        "print(np.allclose(X_scaled, X_manual_scaled))\n",
        "#True"
      ]
    },
    {
      "cell_type": "code",
      "source": [
        "dataX=pd.DataFrame(X)\n",
        "dataX.hist()\n"
      ],
      "metadata": {
        "colab": {
          "base_uri": "https://localhost:8080/",
          "height": 370
        },
        "id": "1Utszjy0Ugdy",
        "outputId": "3946ac62-4ef1-4ff2-8497-3de706f01ade"
      },
      "execution_count": null,
      "outputs": [
        {
          "output_type": "execute_result",
          "data": {
            "text/plain": [
              "array([[<matplotlib.axes._subplots.AxesSubplot object at 0x7f2e67a6a6d0>,\n",
              "        <matplotlib.axes._subplots.AxesSubplot object at 0x7f2e67aa4730>],\n",
              "       [<matplotlib.axes._subplots.AxesSubplot object at 0x7f2e67a119a0>,\n",
              "        <matplotlib.axes._subplots.AxesSubplot object at 0x7f2e679cc3a0>]],\n",
              "      dtype=object)"
            ]
          },
          "metadata": {},
          "execution_count": 76
        },
        {
          "output_type": "display_data",
          "data": {
            "text/plain": [
              "<Figure size 432x288 with 4 Axes>"
            ],
            "image/png": "[encoded data removed]"
          },
          "metadata": {
            "needs_background": "light"
          }
        }
      ]
    },
    {
      "cell_type": "code",
      "source": [
        "dataMinMax=pd.DataFrame(X_scaled)\n",
        "dataMinMax.hist()"
      ],
      "metadata": {
        "colab": {
          "base_uri": "https://localhost:8080/",
          "height": 370
        },
        "id": "9rQZQh09xP20",
        "outputId": "4917b94e-a556-492f-b6e2-28641c7fee54"
      },
      "execution_count": null,
      "outputs": [
        {
          "output_type": "execute_result",
          "data": {
            "text/plain": [
              "array([[<matplotlib.axes._subplots.AxesSubplot object at 0x7f2e678c91f0>,\n",
              "        <matplotlib.axes._subplots.AxesSubplot object at 0x7f2e678b74f0>],\n",
              "       [<matplotlib.axes._subplots.AxesSubplot object at 0x7f2e67893520>,\n",
              "        <matplotlib.axes._subplots.AxesSubplot object at 0x7f2e6783cc40>]],\n",
              "      dtype=object)"
            ]
          },
          "metadata": {},
          "execution_count": 77
        },
        {
          "output_type": "display_data",
          "data": {
            "text/plain": [
              "<Figure size 432x288 with 4 Axes>"
            ],
            "image/png": "[encoded data removed]"
          },
          "metadata": {
            "needs_background": "light"
          }
        }
      ]
    },
    {
      "cell_type": "markdown",
      "metadata": {
        "id": "sElEnftYRIhM"
      },
      "source": [
        "## Standard Scaler"
      ]
    },
    {
      "cell_type": "markdown",
      "source": [
        "Standard Scaler koristimo kada želimo da svaka značajka ima vrijednost meana 0, a standardnu devijaciju i varijancu 1. Korisna je kada imamo podatke koji sadrže i negativne vrijednosti. Raspodijeli podatke u standardnu normalnu distribuciju.\n",
        "Računa svaki stupac zasebno tako da od svake vrijednosti oduzima mean stupca i dijeli vrijednost standardnom devijacijom.\n"
      ],
      "metadata": {
        "id": "aqRDipI50geH"
      }
    },
    {
      "cell_type": "code",
      "execution_count": null,
      "metadata": {
        "id": "AYOxljKaRMc-",
        "colab": {
          "base_uri": "https://localhost:8080/",
          "height": 370
        },
        "outputId": "f3b42fff-d8a5-4ee3-d630-fa8dc37ab65b"
      },
      "outputs": [
        {
          "output_type": "execute_result",
          "data": {
            "text/plain": [
              "array([[<matplotlib.axes._subplots.AxesSubplot object at 0x7f2e677348e0>,\n",
              "        <matplotlib.axes._subplots.AxesSubplot object at 0x7f2e67800160>],\n",
              "       [<matplotlib.axes._subplots.AxesSubplot object at 0x7f2e67701df0>,\n",
              "        <matplotlib.axes._subplots.AxesSubplot object at 0x7f2e676b6550>]],\n",
              "      dtype=object)"
            ]
          },
          "metadata": {},
          "execution_count": 78
        },
        {
          "output_type": "display_data",
          "data": {
            "text/plain": [
              "<Figure size 432x288 with 4 Axes>"
            ],
            "image/png": "[encoded data removed]"
          },
          "metadata": {
            "needs_background": "light"
          }
        }
      ],
      "source": [
        "\n",
        "from sklearn.preprocessing import StandardScaler\n",
        "\n",
        "# define standard scaler\n",
        "scaler = StandardScaler()\n",
        "# transform data\n",
        "scaledStandard = scaler.fit_transform(dataX)\n",
        "dataStandard=pd.DataFrame(scaledStandard)\n",
        "dataStandard.hist()"
      ]
    },
    {
      "cell_type": "markdown",
      "metadata": {
        "id": "nnEMuwCxRNNA"
      },
      "source": [
        "### Max Abs Scaler"
      ]
    },
    {
      "cell_type": "markdown",
      "source": [
        "MaxAbs Scaler funkcionira slično kao i MinMax, ali skalira podatke u skup vrijednosti -1 do 1. \n",
        "Namijenjen je za podatke koji su centrirani oko jedinice ili raspršeni. Ne uništava raspršenost.\n",
        "\n",
        "Djeluje na način da vrijednosti iz svakog stupca podijelimo s maksimalnom vrijednošću toga stupca."
      ],
      "metadata": {
        "id": "Ws5P2nTL6cDZ"
      }
    },
    {
      "cell_type": "code",
      "source": [
        "X_org = np.array([[ 1., -1.,  2.],\n",
        "                    [ 2.,  0.,  0.],\n",
        "                    [ 0.,  1., -1.]])\n",
        "max_abs_scaler = preprocessing.MaxAbsScaler()\n",
        "X_maxabs = max_abs_scaler.fit_transform(X_org)\n",
        "X_maxabs "
      ],
      "metadata": {
        "colab": {
          "base_uri": "https://localhost:8080/"
        },
        "id": "c2p0b6r79qqw",
        "outputId": "036ba1d0-5fd0-45e4-f3f3-985da3977dd1"
      },
      "execution_count": null,
      "outputs": [
        {
          "output_type": "execute_result",
          "data": {
            "text/plain": [
              "array([[ 0.5, -1. ,  1. ],\n",
              "       [ 1. ,  0. ,  0. ],\n",
              "       [ 0. ,  1. , -0.5]])"
            ]
          },
          "metadata": {},
          "execution_count": 79
        }
      ]
    },
    {
      "cell_type": "code",
      "execution_count": null,
      "metadata": {
        "id": "Vb73VMPCRRFd"
      },
      "outputs": [],
      "source": [
        "from sklearn import preprocessing\n",
        "X_org = np.array([[ 1., -1.,  2.],\n",
        "                    [ 2.,  0.,  0.],\n",
        "                    [ 0.,  1., -1.]])\n",
        "max_abs_scaler = preprocessing.MaxAbsScaler()\n",
        "X_maxabs = max_abs_scaler.fit_transform(X)"
      ]
    },
    {
      "cell_type": "code",
      "source": [
        "dataMaxAbs=pd.DataFrame(X_maxabs \n",
        ")\n",
        "dataMaxAbs.hist()"
      ],
      "metadata": {
        "colab": {
          "base_uri": "https://localhost:8080/",
          "height": 370
        },
        "id": "EWXhKF6d9Rs0",
        "outputId": "6ddca71a-2ba0-47f0-989f-0ac214a6e522"
      },
      "execution_count": null,
      "outputs": [
        {
          "output_type": "execute_result",
          "data": {
            "text/plain": [
              "array([[<matplotlib.axes._subplots.AxesSubplot object at 0x7f2e67628250>,\n",
              "        <matplotlib.axes._subplots.AxesSubplot object at 0x7f2e6af5c340>],\n",
              "       [<matplotlib.axes._subplots.AxesSubplot object at 0x7f2e693f9b80>,\n",
              "        <matplotlib.axes._subplots.AxesSubplot object at 0x7f2e681605b0>]],\n",
              "      dtype=object)"
            ]
          },
          "metadata": {},
          "execution_count": 81
        },
        {
          "output_type": "display_data",
          "data": {
            "text/plain": [
              "<Figure size 432x288 with 4 Axes>"
            ],
            "image/png": "[encoded data removed]"
          },
          "metadata": {
            "needs_background": "light"
          }
        }
      ]
    },
    {
      "cell_type": "markdown",
      "metadata": {
        "id": "7uXLszh0RR0H"
      },
      "source": [
        "### Robust Scaler"
      ]
    },
    {
      "cell_type": "markdown",
      "source": [
        "Robust Scaler koristimo kad želimo ukloniti utjecaj outliera iz naših podataka. Ova metoda od podatka oduzima medijan i dijeli podatke interkvartilnim rasponom (između prvog i trećeg kvartila).\n",
        "\n",
        "Upravo ta širina raspona omogućava manji utjecaj outliera.\n",
        "\n"
      ],
      "metadata": {
        "id": "7b-4AA3S-LrA"
      }
    },
    {
      "cell_type": "code",
      "source": [
        "dataR = np.random.normal(0, 15, 30)\n",
        "data_df = pd.DataFrame({\"data\":dataR})"
      ],
      "metadata": {
        "id": "Zt1q6_Do-LMp"
      },
      "execution_count": null,
      "outputs": []
    },
    {
      "cell_type": "code",
      "execution_count": null,
      "metadata": {
        "id": "V8d5QJlhRVjU"
      },
      "outputs": [],
      "source": [
        "outliers = np.random.uniform(240, 250, 5)\n",
        "data_df = pd.DataFrame({\n",
        "    \"data\": np.append(dataR, outliers)\n",
        "})"
      ]
    },
    {
      "cell_type": "code",
      "source": [
        "from sklearn.preprocessing import RobustScaler\n",
        "\n",
        "robust_scaler = RobustScaler()\n",
        "\n",
        "# calculate median and IQR  \n",
        "robust_scaler.fit(data_df)\n",
        "\n",
        "# scale all data points using median and IQR\n",
        "robust_scaled_data = robust_scaler.transform(data_df)"
      ],
      "metadata": {
        "id": "QpjRzX32_k61"
      },
      "execution_count": null,
      "outputs": []
    },
    {
      "cell_type": "code",
      "source": [
        "standard_scaler = StandardScaler()\n",
        "# combine both fit & transform into one call\n",
        "standard_scaled_data = standard_scaler.fit_transform(data_df)\n"
      ],
      "metadata": {
        "id": "xVQOWkSjAdbu"
      },
      "execution_count": null,
      "outputs": []
    },
    {
      "cell_type": "code",
      "source": [
        "scaled_values = pd.DataFrame({\n",
        "    'Standard': standard_scaled_data.reshape(-1),\n",
        "    'Robust': robust_scaled_data.reshape(-1)\n",
        "})\n",
        "\n",
        "scaled_values.describe()"
      ],
      "metadata": {
        "colab": {
          "base_uri": "https://localhost:8080/",
          "height": 300
        },
        "id": "t1xQSG8MAybM",
        "outputId": "3f286a36-8426-44c0-9e8c-30641beb52f9"
      },
      "execution_count": null,
      "outputs": [
        {
          "output_type": "execute_result",
          "data": {
            "text/plain": [
              "           Standard     Robust\n",
              "count  3.500000e+01  35.000000\n",
              "mean  -1.268826e-17   1.540406\n",
              "std    1.014599e+00   3.794790\n",
              "min   -6.512506e-01  -0.895393\n",
              "25%   -4.817430e-01  -0.261403\n",
              "50%   -4.118527e-01   0.000000\n",
              "75%   -2.143766e-01   0.738597\n",
              "max    2.438808e+00  10.661999"
            ],
            "text/html": [
              "\n",
              "  <div id=\"df-d3a09770-f3cc-495d-bf95-3821b247cd6f\">\n",
              "    <div class=\"colab-df-container\">\n",
              "      <div>\n",
              "<style scoped>\n",
              "    .dataframe tbody tr th:only-of-type {\n",
              "        vertical-align: middle;\n",
              "    }\n",
              "\n",
              "    .dataframe tbody tr th {\n",
              "        vertical-align: top;\n",
              "    }\n",
              "\n",
              "    .dataframe thead th {\n",
              "        text-align: right;\n",
              "    }\n",
              "</style>\n",
              "<table border=\"1\" class=\"dataframe\">\n",
              "  <thead>\n",
              "    <tr style=\"text-align: right;\">\n",
              "      <th></th>\n",
              "      <th>Standard</th>\n",
              "      <th>Robust</th>\n",
              "    </tr>\n",
              "  </thead>\n",
              "  <tbody>\n",
              "    <tr>\n",
              "      <th>count</th>\n",
              "      <td>3.500000e+01</td>\n",
              "      <td>35.000000</td>\n",
              "    </tr>\n",
              "    <tr>\n",
              "      <th>mean</th>\n",
              "      <td>-1.268826e-17</td>\n",
              "      <td>1.540406</td>\n",
              "    </tr>\n",
              "    <tr>\n",
              "      <th>std</th>\n",
              "      <td>1.014599e+00</td>\n",
              "      <td>3.794790</td>\n",
              "    </tr>\n",
              "    <tr>\n",
              "      <th>min</th>\n",
              "      <td>-6.512506e-01</td>\n",
              "      <td>-0.895393</td>\n",
              "    </tr>\n",
              "    <tr>\n",
              "      <th>25%</th>\n",
              "      <td>-4.817430e-01</td>\n",
              "      <td>-0.261403</td>\n",
              "    </tr>\n",
              "    <tr>\n",
              "      <th>50%</th>\n",
              "      <td>-4.118527e-01</td>\n",
              "      <td>0.000000</td>\n",
              "    </tr>\n",
              "    <tr>\n",
              "      <th>75%</th>\n",
              "      <td>-2.143766e-01</td>\n",
              "      <td>0.738597</td>\n",
              "    </tr>\n",
              "    <tr>\n",
              "      <th>max</th>\n",
              "      <td>2.438808e+00</td>\n",
              "      <td>10.661999</td>\n",
              "    </tr>\n",
              "  </tbody>\n",
              "</table>\n",
              "</div>\n",
              "      <button class=\"colab-df-convert\" onclick=\"convertToInteractive('df-d3a09770-f3cc-495d-bf95-3821b247cd6f')\"\n",
              "              title=\"Convert this dataframe to an interactive table.\"\n",
              "              style=\"display:none;\">\n",
              "        \n",
              "  <svg xmlns=\"http://www.w3.org/2000/svg\" height=\"24px\"viewBox=\"0 0 24 24\"\n",
              "       width=\"24px\">\n",
              "    <path d=\"M0 0h24v24H0V0z\" fill=\"none\"/>\n",
              "    <path d=\"M18.56 5.44l.94 2.06.94-2.06 2.06-.94-2.06-.94-.94-2.06-.94 2.06-2.06.94zm-11 1L8.5 8.5l.94-2.06 2.06-.94-2.06-.94L8.5 2.5l-.94 2.06-2.06.94zm10 10l.94 2.06.94-2.06 2.06-.94-2.06-.94-.94-2.06-.94 2.06-2.06.94z\"/><path d=\"M17.41 7.96l-1.37-1.37c-.4-.4-.92-.59-1.43-.59-.52 0-1.04.2-1.43.59L10.3 9.45l-7.72 7.72c-.78.78-.78 2.05 0 2.83L4 21.41c.39.39.9.59 1.41.59.51 0 1.02-.2 1.41-.59l7.78-7.78 2.81-2.81c.8-.78.8-2.07 0-2.86zM5.41 20L4 18.59l7.72-7.72 1.47 1.35L5.41 20z\"/>\n",
              "  </svg>\n",
              "      </button>\n",
              "      \n",
              "  <style>\n",
              "    .colab-df-container {\n",
              "      display:flex;\n",
              "      flex-wrap:wrap;\n",
              "      gap: 12px;\n",
              "    }\n",
              "\n",
              "    .colab-df-convert {\n",
              "      background-color: #E8F0FE;\n",
              "      border: none;\n",
              "      border-radius: 50%;\n",
              "      cursor: pointer;\n",
              "      display: none;\n",
              "      fill: #1967D2;\n",
              "      height: 32px;\n",
              "      padding: 0 0 0 0;\n",
              "      width: 32px;\n",
              "    }\n",
              "\n",
              "    .colab-df-convert:hover {\n",
              "      background-color: #E2EBFA;\n",
              "      box-shadow: 0px 1px 2px rgba(60, 64, 67, 0.3), 0px 1px 3px 1px rgba(60, 64, 67, 0.15);\n",
              "      fill: #174EA6;\n",
              "    }\n",
              "\n",
              "    [theme=dark] .colab-df-convert {\n",
              "      background-color: #3B4455;\n",
              "      fill: #D2E3FC;\n",
              "    }\n",
              "\n",
              "    [theme=dark] .colab-df-convert:hover {\n",
              "      background-color: #434B5C;\n",
              "      box-shadow: 0px 1px 3px 1px rgba(0, 0, 0, 0.15);\n",
              "      filter: drop-shadow(0px 1px 2px rgba(0, 0, 0, 0.3));\n",
              "      fill: #FFFFFF;\n",
              "    }\n",
              "  </style>\n",
              "\n",
              "      <script>\n",
              "        const buttonEl =\n",
              "          document.querySelector('#df-d3a09770-f3cc-495d-bf95-3821b247cd6f button.colab-df-convert');\n",
              "        buttonEl.style.display =\n",
              "          google.colab.kernel.accessAllowed ? 'block' : 'none';\n",
              "\n",
              "        async function convertToInteractive(key) {\n",
              "          const element = document.querySelector('#df-d3a09770-f3cc-495d-bf95-3821b247cd6f');\n",
              "          const dataTable =\n",
              "            await google.colab.kernel.invokeFunction('convertToInteractive',\n",
              "                                                     [key], {});\n",
              "          if (!dataTable) return;\n",
              "\n",
              "          const docLinkHtml = 'Like what you see? Visit the ' +\n",
              "            '<a target=\"_blank\" href=https://colab.research.google.com/notebooks/data_table.ipynb>data table notebook</a>'\n",
              "            + ' to learn more about interactive tables.';\n",
              "          element.innerHTML = '';\n",
              "          dataTable['output_type'] = 'display_data';\n",
              "          await google.colab.output.renderOutput(dataTable, element);\n",
              "          const docLink = document.createElement('div');\n",
              "          docLink.innerHTML = docLinkHtml;\n",
              "          element.appendChild(docLink);\n",
              "        }\n",
              "      </script>\n",
              "    </div>\n",
              "  </div>\n",
              "  "
            ]
          },
          "metadata": {},
          "execution_count": 86
        }
      ]
    },
    {
      "cell_type": "markdown",
      "metadata": {
        "id": "kuGnKW7xRW0H"
      },
      "source": [
        "##Quantile Transformer Scaler "
      ]
    },
    {
      "cell_type": "markdown",
      "source": [
        "Preoblikuje podatke koristeći podatke o kvantilima na način da prate normalnu distribuciju. Također smanjuje utjecaj outliera.\n",
        "\n",
        "Transformacija se zasebno primjenjuje na svaku značajku. Remeti linearnu vezu, ali omogućava lakšu direktnu usporedbu značajki mjerenih u različitim skalama.\n"
      ],
      "metadata": {
        "id": "8t5C9mETCJjK"
      }
    },
    {
      "cell_type": "markdown",
      "source": [
        "Koristi se tako da neke podatke mapira na željenu distribuciju tako da najveći podatak našeg skupa mapira na najveći referentne distribucije i tako dalje.\n"
      ],
      "metadata": {
        "id": "MgMHbzoFGb-X"
      }
    },
    {
      "cell_type": "code",
      "execution_count": null,
      "metadata": {
        "id": "OCx1B9jqRkdy",
        "colab": {
          "base_uri": "https://localhost:8080/",
          "height": 515
        },
        "outputId": "1214d28a-4201-497b-d98e-f1cfe352bc68"
      },
      "outputs": [
        {
          "output_type": "display_data",
          "data": {
            "text/plain": [
              "<Figure size 432x288 with 1 Axes>"
            ],
            "image/png": "[encoded data removed]"
          },
          "metadata": {
            "needs_background": "light"
          }
        },
        {
          "output_type": "display_data",
          "data": {
            "text/plain": [
              "<Figure size 432x288 with 1 Axes>"
            ],
            "image/png": "[encoded data removed]"
          },
          "metadata": {
            "needs_background": "light"
          }
        }
      ],
      "source": [
        "from numpy import exp\n",
        "from numpy.random import randn\n",
        "from sklearn.preprocessing import QuantileTransformer\n",
        "from matplotlib import pyplot\n",
        "# generate gaussian data sample\n",
        "data = randn(1000)\n",
        "# add a skew to the data distribution\n",
        "data = exp(data)\n",
        "# histogram of the raw data with a skew\n",
        "pyplot.hist(data, bins=25)\n",
        "pyplot.show()\n",
        "# reshape data to have rows and columns\n",
        "data = data.reshape((len(data),1))\n",
        "# quantile transform the raw data\n",
        "quantile = QuantileTransformer(output_distribution='normal')\n",
        "data_trans = quantile.fit_transform(data)\n",
        "# histogram of the transformed data\n",
        "pyplot.hist(data_trans, bins=25)\n",
        "pyplot.show()\n"
      ]
    },
    {
      "cell_type": "markdown",
      "metadata": {
        "id": "cEee86keRlRN"
      },
      "source": [
        "### Power Transformer Scaler\n"
      ]
    },
    {
      "cell_type": "markdown",
      "source": [
        "Power Transformer Scaler se koristi kako bi se distribucija naših podataka što više približila Gausovoj(normalnoj) razdiobi. Koristi se kada modeliramo pitanja kod kojih varijanca nije konstantna.\n",
        "\n",
        "Trenutno podržava dvije metode transformacije. Box-Cox metodu i Yeo-Johnson metodu.\n",
        "\n",
        "Box-Cox se koristi ako su podatci striktno pozitivni, dok Yeo-Johnson podržava i pozitivne i negativne vrijednosti podataka."
      ],
      "metadata": {
        "id": "2iPsbQdJZyuH"
      }
    },
    {
      "cell_type": "markdown",
      "source": [
        "Box-Cox metoda koristi koeficijent lambda koji poprima vrijednosti iz skupa (-5,5). Taj koeficijent određuje eksponent potenciranja i metoda traži vrijednost kojom će podtake preoblikovati najbliže normalnoj distribuciji\n"
      ],
      "metadata": {
        "id": "Zxc9spfRg9O_"
      }
    },
    {
      "cell_type": "code",
      "execution_count": null,
      "metadata": {
        "id": "rIONHwelRsiP",
        "colab": {
          "base_uri": "https://localhost:8080/",
          "height": 427
        },
        "outputId": "3c8d8806-acd0-4e5f-8fc3-673e16d3939e"
      },
      "outputs": [
        {
          "output_type": "stream",
          "name": "stderr",
          "text": [
            "/usr/local/lib/python3.8/dist-packages/seaborn/distributions.py:2619: FutureWarning: `distplot` is a deprecated function and will be removed in a future version. Please adapt your code to use either `displot` (a figure-level function with similar flexibility) or `kdeplot` (an axes-level function for kernel density plots).\n",
            "  warnings.warn(msg, FutureWarning)\n",
            "/usr/local/lib/python3.8/dist-packages/seaborn/distributions.py:2619: FutureWarning: `distplot` is a deprecated function and will be removed in a future version. Please adapt your code to use either `displot` (a figure-level function with similar flexibility) or `kdeplot` (an axes-level function for kernel density plots).\n",
            "  warnings.warn(msg, FutureWarning)\n"
          ]
        },
        {
          "output_type": "stream",
          "name": "stdout",
          "text": [
            "Lambda value used for Transformation: 0.2570812983008078\n"
          ]
        },
        {
          "output_type": "display_data",
          "data": {
            "text/plain": [
              "<Figure size 720x360 with 2 Axes>"
            ],
            "image/png": "[encoded data removed]"
          },
          "metadata": {
            "needs_background": "light"
          }
        }
      ],
      "source": [
        "\n",
        "# import modules\n",
        "import numpy as np\n",
        "from scipy import stats\n",
        " \n",
        "# plotting modules\n",
        "import seaborn as sns\n",
        "import matplotlib.pyplot as plt\n",
        " \n",
        "# generate non-normal data (exponential)\n",
        "original_data = np.random.exponential(size = 1000)\n",
        " \n",
        "# transform training data & save lambda value\n",
        "fitted_data, fitted_lambda = stats.boxcox(original_data)\n",
        " \n",
        "# creating axes to draw plots\n",
        "fig, ax = plt.subplots(1, 2)\n",
        " \n",
        "# plotting the original data(non-normal) and\n",
        "# fitted data (normal)\n",
        "sns.distplot(original_data, hist = False, kde = True,\n",
        "            kde_kws = {'shade': True, 'linewidth': 2},\n",
        "            label = \"Non-Normal\", color =\"green\", ax = ax[0])\n",
        " \n",
        "sns.distplot(fitted_data, hist = False, kde = True,\n",
        "            kde_kws = {'shade': True, 'linewidth': 2},\n",
        "            label = \"Normal\", color =\"green\", ax = ax[1])\n",
        " \n",
        "# adding legends to the subplots\n",
        "plt.legend(loc = \"upper right\")\n",
        " \n",
        "# rescaling the subplots\n",
        "fig.set_figheight(5)\n",
        "fig.set_figwidth(10)\n",
        " \n",
        "print(f\"Lambda value used for Transformation: {fitted_lambda}\")"
      ]
    },
    {
      "cell_type": "markdown",
      "source": [
        "Yeo-Johnson transformatori proširuju Box-Cox transformatore tako da računaju  Box-Cox od y+1 za pozitivne vrijednosti, a za negativne Box-Cox od |y|+1 s parametrom 2."
      ],
      "metadata": {
        "id": "0TZRMg7miHOw"
      }
    },
    {
      "cell_type": "markdown",
      "metadata": {
        "id": "AIgUMe7aRtKn"
      },
      "source": [
        "## Unit Vector Scaler"
      ]
    },
    {
      "cell_type": "markdown",
      "source": [
        "Normalizira vrijednosti značajke na jedinične vektore."
      ],
      "metadata": {
        "id": "CtqIB911mQxL"
      }
    },
    {
      "cell_type": "code",
      "source": [
        "X = [[ 1., -1.,  2.],\n",
        "     [ 2.,  0.,  0.],\n",
        "     [ 0.,  1., -1.]]\n",
        "X_normalized = preprocessing.normalize(X, norm='l2')\n",
        "X_normalized"
      ],
      "metadata": {
        "colab": {
          "base_uri": "https://localhost:8080/"
        },
        "id": "WfjkuPXDmQZ2",
        "outputId": "edf7f1d6-4926-43b5-ce3d-cc13367d7ed1"
      },
      "execution_count": null,
      "outputs": [
        {
          "output_type": "execute_result",
          "data": {
            "text/plain": [
              "array([[ 0.40824829, -0.40824829,  0.81649658],\n",
              "       [ 1.        ,  0.        ,  0.        ],\n",
              "       [ 0.        ,  0.70710678, -0.70710678]])"
            ]
          },
          "metadata": {},
          "execution_count": 13
        }
      ]
    }
  ],
  "metadata": {
    "colab": {
      "provenance": []
    },
    "kernelspec": {
      "display_name": "Python 3",
      "name": "python3"
    },
    "language_info": {
      "name": "python"
    }
  },
  "nbformat": 4,
  "nbformat_minor": 0
}