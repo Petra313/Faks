{
  "nbformat": 4,
  "nbformat_minor": 0,
  "metadata": {
    "colab": {
      "provenance": []
    },
    "kernelspec": {
      "name": "python3",
      "display_name": "Python 3"
    },
    "language_info": {
      "name": "python"
    }
  },
  "cells": [
    {
      "cell_type": "code",
      "execution_count": null,
      "metadata": {
        "id": "BMvpJL-v4gG0"
      },
      "outputs": [],
      "source": [
        "import numpy as np"
      ]
    },
    {
      "cell_type": "code",
      "source": [
        "B=np.array([[2,1,3],\n",
        "   [5,3,2],\n",
        "   [1,4,3]])\n",
        "np.linalg.det(B)"
      ],
      "metadata": {
        "colab": {
          "base_uri": "https://localhost:8080/"
        },
        "id": "Df8xK9Xk4gfi",
        "outputId": "2865e089-49e0-4d59-de7a-25407deb5378"
      },
      "execution_count": null,
      "outputs": [
        {
          "output_type": "execute_result",
          "data": {
            "text/plain": [
              "40.000000000000014"
            ]
          },
          "metadata": {},
          "execution_count": 5
        }
      ]
    },
    {
      "cell_type": "code",
      "source": [
        "v=np.array([1,-3,8,4,5])\n",
        "w=np.array([2,7,10,1,1])"
      ],
      "metadata": {
        "id": "f_1NEn6p4i0I"
      },
      "execution_count": null,
      "outputs": []
    },
    {
      "cell_type": "code",
      "source": [
        "##ZA Dobit normu mozemo na dva načina\n",
        "np.math.sqrt(np.inner(v,v))"
      ],
      "metadata": {
        "colab": {
          "base_uri": "https://localhost:8080/"
        },
        "id": "rdMawPrh4smk",
        "outputId": "b418e38b-4226-4d55-97ac-a8e0ff181fb9"
      },
      "execution_count": null,
      "outputs": [
        {
          "output_type": "execute_result",
          "data": {
            "text/plain": [
              "10.723805294763608"
            ]
          },
          "metadata": {},
          "execution_count": 7
        }
      ]
    },
    {
      "cell_type": "code",
      "source": [
        "# ili\n",
        "np.linalg.norm(v)"
      ],
      "metadata": {
        "colab": {
          "base_uri": "https://localhost:8080/"
        },
        "id": "b-YvsTvM5FAk",
        "outputId": "5169a011-fa0f-4d6c-a88a-ffd46673e74a"
      },
      "execution_count": null,
      "outputs": [
        {
          "output_type": "execute_result",
          "data": {
            "text/plain": [
              "10.723805294763608"
            ]
          },
          "metadata": {},
          "execution_count": 8
        }
      ]
    },
    {
      "cell_type": "code",
      "source": [
        "## linearna kombinacija vektora\n",
        "7*v-8*w"
      ],
      "metadata": {
        "colab": {
          "base_uri": "https://localhost:8080/"
        },
        "id": "-hFDF9Ce5Lr_",
        "outputId": "113435fa-b39f-426a-e6b6-96a068aa25df"
      },
      "execution_count": null,
      "outputs": [
        {
          "output_type": "execute_result",
          "data": {
            "text/plain": [
              "array([ -9, -77, -24,  20,  27])"
            ]
          },
          "metadata": {},
          "execution_count": 9
        }
      ]
    },
    {
      "cell_type": "code",
      "source": [
        "##linearno zavisni vektor o vektoru v\n",
        "3*v\n"
      ],
      "metadata": {
        "colab": {
          "base_uri": "https://localhost:8080/"
        },
        "id": "lacr6R2V5rw0",
        "outputId": "9ba984e8-55c8-40aa-8d61-3319f38857c9"
      },
      "execution_count": null,
      "outputs": [
        {
          "output_type": "execute_result",
          "data": {
            "text/plain": [
              "array([ 3, -9, 24, 12, 15])"
            ]
          },
          "metadata": {},
          "execution_count": 10
        }
      ]
    },
    {
      "cell_type": "code",
      "source": [
        "#kut između ta dva vektora\n",
        "c=np.inner(v,w)/(np.linalg.norm(v)*np.linalg.norm(w))\n",
        "c"
      ],
      "metadata": {
        "colab": {
          "base_uri": "https://localhost:8080/"
        },
        "id": "vdeWmlrz5vnB",
        "outputId": "be53b354-8364-4486-b1c0-ffe7a874a9ee"
      },
      "execution_count": null,
      "outputs": [
        {
          "output_type": "execute_result",
          "data": {
            "text/plain": [
              "0.5243041203911968"
            ]
          },
          "metadata": {},
          "execution_count": 11
        }
      ]
    },
    {
      "cell_type": "code",
      "source": [
        "c_rad=np.arccos(c) ##kut u radijanima\n",
        "c_rad"
      ],
      "metadata": {
        "id": "j3UqhHX66jop",
        "colab": {
          "base_uri": "https://localhost:8080/"
        },
        "outputId": "99cd838e-51c3-435d-d0d8-6ebc9e7f9248"
      },
      "execution_count": null,
      "outputs": [
        {
          "output_type": "execute_result",
          "data": {
            "text/plain": [
              "1.0188986293626563"
            ]
          },
          "metadata": {},
          "execution_count": 12
        }
      ]
    },
    {
      "cell_type": "code",
      "source": [
        "## za kut u stupnjevima\n",
        "c_deg=c_rad*180/np.pi\n",
        "c_deg"
      ],
      "metadata": {
        "colab": {
          "base_uri": "https://localhost:8080/"
        },
        "id": "RH2NULjB6cyQ",
        "outputId": "9129a0d6-6dbf-44e2-f7b6-4d04b40c8403"
      },
      "execution_count": null,
      "outputs": [
        {
          "output_type": "execute_result",
          "data": {
            "text/plain": [
              "58.378591214144535"
            ]
          },
          "metadata": {},
          "execution_count": 13
        }
      ]
    },
    {
      "cell_type": "code",
      "source": [
        "#napravimo dvije matrice A i B\n",
        "A=np.array([[7,0,0],\n",
        "   [0,8,0],\n",
        "   [0,0,9]])\n",
        "B=np.array([[1,2,4],\n",
        "   [8,9,10],\n",
        "   [-1,0,3]])"
      ],
      "metadata": {
        "id": "lUSRCci266aV"
      },
      "execution_count": null,
      "outputs": []
    },
    {
      "cell_type": "code",
      "source": [
        "#Zbroj neke linearne kombinacije\n",
        "A+2*B"
      ],
      "metadata": {
        "colab": {
          "base_uri": "https://localhost:8080/"
        },
        "id": "9UM_RbTo7Tew",
        "outputId": "cf6b1631-30fe-49a5-d066-6a0181ac4776"
      },
      "execution_count": null,
      "outputs": [
        {
          "output_type": "execute_result",
          "data": {
            "text/plain": [
              "array([[ 9,  4,  8],\n",
              "       [16, 26, 20],\n",
              "       [-2,  0, 15]])"
            ]
          },
          "metadata": {},
          "execution_count": 15
        }
      ]
    },
    {
      "cell_type": "code",
      "source": [
        "# Racunanje trag matrice\n",
        "B.trace()"
      ],
      "metadata": {
        "colab": {
          "base_uri": "https://localhost:8080/"
        },
        "id": "JRrBbCXk7gAm",
        "outputId": "940670b3-d3bf-4c0b-c28f-0c6670506f37"
      },
      "execution_count": null,
      "outputs": [
        {
          "output_type": "execute_result",
          "data": {
            "text/plain": [
              "13"
            ]
          },
          "metadata": {},
          "execution_count": 16
        }
      ]
    },
    {
      "cell_type": "code",
      "source": [
        "#Transponirana matrica\n",
        "B.T"
      ],
      "metadata": {
        "colab": {
          "base_uri": "https://localhost:8080/"
        },
        "id": "hBG1qZCZ7moT",
        "outputId": "e3947005-5118-4b51-fad6-041f7fa035b9"
      },
      "execution_count": null,
      "outputs": [
        {
          "output_type": "execute_result",
          "data": {
            "text/plain": [
              "array([[ 1,  8, -1],\n",
              "       [ 2,  9,  0],\n",
              "       [ 4, 10,  3]])"
            ]
          },
          "metadata": {},
          "execution_count": 17
        }
      ]
    },
    {
      "cell_type": "code",
      "source": [
        "#energija matrice je B*Btransponirano pa trag\n",
        "(B*B.T).trace()"
      ],
      "metadata": {
        "colab": {
          "base_uri": "https://localhost:8080/"
        },
        "id": "CcPRAA2-8Rlv",
        "outputId": "7adfa151-115f-483a-dbbf-9af81850d759"
      },
      "execution_count": null,
      "outputs": [
        {
          "output_type": "execute_result",
          "data": {
            "text/plain": [
              "91"
            ]
          },
          "metadata": {},
          "execution_count": 18
        }
      ]
    },
    {
      "cell_type": "code",
      "source": [
        "# norma matrice B\n",
        "np.linalg.norm(B)"
      ],
      "metadata": {
        "colab": {
          "base_uri": "https://localhost:8080/"
        },
        "id": "QRs4iVp49ZJY",
        "outputId": "b47040cc-b9a6-420f-8bd9-2262084cb593"
      },
      "execution_count": null,
      "outputs": [
        {
          "output_type": "execute_result",
          "data": {
            "text/plain": [
              "16.61324772583615"
            ]
          },
          "metadata": {},
          "execution_count": 19
        }
      ]
    },
    {
      "cell_type": "code",
      "source": [
        "#svojstvene vrijednosti matrice A - 7,8,9 jer je dijagonalizirana\n",
        "# ali da nije bila onda\n",
        "\n",
        "np.linalg.eig(B)"
      ],
      "metadata": {
        "colab": {
          "base_uri": "https://localhost:8080/"
        },
        "id": "EJ308kgM8daZ",
        "outputId": "0e8221e2-ec38-4d28-d565-b3d1ce960d74"
      },
      "execution_count": null,
      "outputs": [
        {
          "output_type": "execute_result",
          "data": {
            "text/plain": [
              "(array([10.34272932, -0.17093235,  2.82820303]),\n",
              " array([[-0.19818835, -0.62274344,  0.08165993],\n",
              "        [-0.97979225,  0.75737776, -0.87601076],\n",
              "        [ 0.0269911 , -0.19639127,  0.47532811]]))"
            ]
          },
          "metadata": {},
          "execution_count": 20
        }
      ]
    },
    {
      "cell_type": "code",
      "source": [
        "# Nađite vektor koji je okomit na prvi vektor a u ravnini sa oba\n",
        "# teka\n",
        "a=np.array([1,2,4])\n",
        "b=np.array([8,9,10])\n",
        "\n",
        "x=np.inner(a,b)/np.inner(a,a)*a\n",
        "x"
      ],
      "metadata": {
        "colab": {
          "base_uri": "https://localhost:8080/"
        },
        "id": "QEtEHVwL9kAg",
        "outputId": "b3c89373-2787-441f-a835-cd60d8e02b74"
      },
      "execution_count": null,
      "outputs": [
        {
          "output_type": "execute_result",
          "data": {
            "text/plain": [
              "array([ 3.14285714,  6.28571429, 12.57142857])"
            ]
          },
          "metadata": {},
          "execution_count": 21
        }
      ]
    },
    {
      "cell_type": "code",
      "source": [
        "c=b-x\n",
        "c"
      ],
      "metadata": {
        "colab": {
          "base_uri": "https://localhost:8080/"
        },
        "id": "6QbOyhF79sRv",
        "outputId": "82d299c8-b307-4de5-d8bb-dfbd13cd21c3"
      },
      "execution_count": null,
      "outputs": [
        {
          "output_type": "execute_result",
          "data": {
            "text/plain": [
              "array([ 4.85714286,  2.71428571, -2.57142857])"
            ]
          },
          "metadata": {},
          "execution_count": 22
        }
      ]
    },
    {
      "cell_type": "code",
      "source": [
        "## Provjerimo jel skalarni 0\n",
        "np.inner(a,c).round()"
      ],
      "metadata": {
        "colab": {
          "base_uri": "https://localhost:8080/"
        },
        "id": "vicLbriR_ePm",
        "outputId": "1ad591bf-9741-4deb-98fd-b96b0922310f"
      },
      "execution_count": null,
      "outputs": [
        {
          "output_type": "execute_result",
          "data": {
            "text/plain": [
              "0.0"
            ]
          },
          "metadata": {},
          "execution_count": 32
        }
      ]
    },
    {
      "cell_type": "code",
      "source": [
        "# Je zato sta je iznos 1,78 * 10^(-15)"
      ],
      "metadata": {
        "id": "IBZhu8vL_iip"
      },
      "execution_count": null,
      "outputs": []
    },
    {
      "cell_type": "code",
      "source": [
        "# Možda bude i GranSmidth na 4 vektora\n"
      ],
      "metadata": {
        "id": "KKR6bJrP_vcd"
      },
      "execution_count": null,
      "outputs": []
    },
    {
      "cell_type": "code",
      "source": [
        "#racunanje determinante\n",
        "np.linalg.det(B)"
      ],
      "metadata": {
        "colab": {
          "base_uri": "https://localhost:8080/"
        },
        "id": "Njf_RcZU_6k8",
        "outputId": "9c9b0ce0-2a06-40c5-f1f1-b96448f48900"
      },
      "execution_count": null,
      "outputs": [
        {
          "output_type": "execute_result",
          "data": {
            "text/plain": [
              "-4.9999999999999964"
            ]
          },
          "metadata": {},
          "execution_count": 26
        }
      ]
    },
    {
      "cell_type": "code",
      "source": [
        "#provjeri asocijativnost ili nesto bi isto moglo"
      ],
      "metadata": {
        "id": "4KuBzX8DAH_E"
      },
      "execution_count": null,
      "outputs": []
    },
    {
      "cell_type": "code",
      "source": [
        "# i na papiru kako neki ekstrem nac"
      ],
      "metadata": {
        "id": "DQOsJOvEAUrt"
      },
      "execution_count": null,
      "outputs": []
    },
    {
      "cell_type": "code",
      "source": [],
      "metadata": {
        "id": "kjX0w_2MAXjh"
      },
      "execution_count": null,
      "outputs": []
    },
    {
      "cell_type": "code",
      "source": [
        "B=np.array([[2,2,6],\n",
        "   [1,3,9],\n",
        "   [6,1,0]])\n",
        "np.linalg.norm(B)"
      ],
      "metadata": {
        "colab": {
          "base_uri": "https://localhost:8080/"
        },
        "outputId": "9905a14a-18e7-44a0-8278-315e9da5f19d",
        "id": "epaVV5bkZNNw"
      },
      "execution_count": null,
      "outputs": [
        {
          "output_type": "execute_result",
          "data": {
            "text/plain": [
              "13.114877048604"
            ]
          },
          "metadata": {},
          "execution_count": 29
        }
      ]
    },
    {
      "cell_type": "code",
      "source": [
        "B=np.array([[1,2,3],\n",
        "   [2,4,6],\n",
        "   [2,6,9]])\n",
        "np.linalg.det(B)"
      ],
      "metadata": {
        "colab": {
          "base_uri": "https://localhost:8080/"
        },
        "id": "O6F8x3wsZUlZ",
        "outputId": "acec2dd0-d7ca-4f0c-d823-1eba554cc73f"
      },
      "execution_count": null,
      "outputs": [
        {
          "output_type": "execute_result",
          "data": {
            "text/plain": [
              "0.0"
            ]
          },
          "metadata": {},
          "execution_count": 30
        }
      ]
    },
    {
      "cell_type": "code",
      "source": [
        "##ZA Dobit normu mozemo na dva načina\n",
        "\n",
        "v=np.array([1,-3,8,4,5])\n",
        "w=np.array([2,7,10,1,1])\n",
        "np.inner(v,w)"
      ],
      "metadata": {
        "colab": {
          "base_uri": "https://localhost:8080/"
        },
        "outputId": "5c732728-fa17-4edd-e806-bdef0d3a86dc",
        "id": "9Uj-SBzIdxQM"
      },
      "execution_count": null,
      "outputs": [
        {
          "output_type": "execute_result",
          "data": {
            "text/plain": [
              "70"
            ]
          },
          "metadata": {},
          "execution_count": 31
        }
      ]
    }
  ]
}