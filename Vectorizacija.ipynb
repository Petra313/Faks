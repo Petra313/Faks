{
  "nbformat": 4,
  "nbformat_minor": 0,
  "metadata": {
    "colab": {
      "provenance": []
    },
    "kernelspec": {
      "name": "python3",
      "display_name": "Python 3"
    },
    "language_info": {
      "name": "python"
    }
  },
  "cells": [
    {
      "cell_type": "markdown",
      "source": [
        "  \n",
        "<center>\n",
        "\n",
        "# Znanstveno programiranje\n",
        "## Vektorizacija i broadcasting\n",
        "\n",
        "</center>"
      ],
      "metadata": {
        "id": "qeMARreUSQ_V"
      }
    },
    {
      "cell_type": "markdown",
      "source": [
        "# **1. Klasičan način pisanja funkcija**\n",
        "\n",
        "* Skalarni produkt\n",
        "* Vanjski produkt\n",
        "* Množenje po elementima"
      ],
      "metadata": {
        "id": "xjodF1ciSyKQ"
      }
    },
    {
      "cell_type": "code",
      "source": [
        "import time\n",
        "import numpy as np\n",
        "\n",
        "x1 = [9, 2, 5, 0, 0, 7, 5, 0, 0, 0, 9, 2, 5, 0, 0]\n",
        "x2 = [9, 2, 2, 9, 0, 9, 2, 5, 0, 0, 9, 2, 5, 0, 0]"
      ],
      "metadata": {
        "id": "XsBZOh1UncQ-"
      },
      "execution_count": 1,
      "outputs": []
    },
    {
      "cell_type": "code",
      "source": [
        "tic = time.process_time()\n",
        "dot = 0\n",
        "for i in range(len(x1)):\n",
        "    dot+= x1[i]*x2[i]\n",
        "toc = time.process_time()\n",
        "print (\"skalarni = \" + str(dot) + \"\\n ----- Vrijeme izvršavanja = \" + str(1000*(toc - tic)) + \"ms\")\n",
        "classic_dot=1000*(toc - tic)"
      ],
      "metadata": {
        "colab": {
          "base_uri": "https://localhost:8080/"
        },
        "id": "apKY0VbjnLUV",
        "outputId": "e090afa9-23d9-41b5-aa51-ac576affee1a"
      },
      "execution_count": 2,
      "outputs": [
        {
          "output_type": "stream",
          "name": "stdout",
          "text": [
            "skalarni = 278\n",
            " ----- Vrijeme izvršavanja = 0.17505499999992402ms\n"
          ]
        }
      ]
    },
    {
      "cell_type": "code",
      "source": [
        "tic = time.process_time()\n",
        "outer = np.zeros((len(x1),len(x2))) \n",
        "for i in range(len(x1)):\n",
        "    for j in range(len(x2)):\n",
        "        outer[i,j] = x1[i]*x2[j]\n",
        "toc = time.process_time()\n",
        "print (\"vanjski = \" + str(outer) + \"\\n ----- Vrijeme izvršavanja = \" + str(1000*(toc - tic)) + \"ms\")\n",
        "classic_outer=1000*(toc - tic)"
      ],
      "metadata": {
        "colab": {
          "base_uri": "https://localhost:8080/"
        },
        "id": "G9IBZlz6njKv",
        "outputId": "83c1365d-a004-46a7-c0cb-177b1c72c452"
      },
      "execution_count": 3,
      "outputs": [
        {
          "output_type": "stream",
          "name": "stdout",
          "text": [
            "vanjski = [[81. 18. 18. 81.  0. 81. 18. 45.  0.  0. 81. 18. 45.  0.  0.]\n",
            " [18.  4.  4. 18.  0. 18.  4. 10.  0.  0. 18.  4. 10.  0.  0.]\n",
            " [45. 10. 10. 45.  0. 45. 10. 25.  0.  0. 45. 10. 25.  0.  0.]\n",
            " [ 0.  0.  0.  0.  0.  0.  0.  0.  0.  0.  0.  0.  0.  0.  0.]\n",
            " [ 0.  0.  0.  0.  0.  0.  0.  0.  0.  0.  0.  0.  0.  0.  0.]\n",
            " [63. 14. 14. 63.  0. 63. 14. 35.  0.  0. 63. 14. 35.  0.  0.]\n",
            " [45. 10. 10. 45.  0. 45. 10. 25.  0.  0. 45. 10. 25.  0.  0.]\n",
            " [ 0.  0.  0.  0.  0.  0.  0.  0.  0.  0.  0.  0.  0.  0.  0.]\n",
            " [ 0.  0.  0.  0.  0.  0.  0.  0.  0.  0.  0.  0.  0.  0.  0.]\n",
            " [ 0.  0.  0.  0.  0.  0.  0.  0.  0.  0.  0.  0.  0.  0.  0.]\n",
            " [81. 18. 18. 81.  0. 81. 18. 45.  0.  0. 81. 18. 45.  0.  0.]\n",
            " [18.  4.  4. 18.  0. 18.  4. 10.  0.  0. 18.  4. 10.  0.  0.]\n",
            " [45. 10. 10. 45.  0. 45. 10. 25.  0.  0. 45. 10. 25.  0.  0.]\n",
            " [ 0.  0.  0.  0.  0.  0.  0.  0.  0.  0.  0.  0.  0.  0.  0.]\n",
            " [ 0.  0.  0.  0.  0.  0.  0.  0.  0.  0.  0.  0.  0.  0.  0.]]\n",
            " ----- Vrijeme izvršavanja = 0.507293999999936ms\n"
          ]
        }
      ]
    },
    {
      "cell_type": "code",
      "source": [
        "tic = time.process_time()\n",
        "mul = np.zeros(len(x1))\n",
        "for i in range(len(x1)):\n",
        "    mul[i] = x1[i]*x2[i]\n",
        "toc = time.process_time()\n",
        "print (\"Množenje po elementima = \" + str(mul) + \"\\n ----- Vrijeme izvršavanja = \" + str(1000*(toc - tic)) + \"ms\")\n",
        "classic_element=1000*(toc - tic)"
      ],
      "metadata": {
        "colab": {
          "base_uri": "https://localhost:8080/"
        },
        "id": "CEIhNITdnw2l",
        "outputId": "45bdaebf-d4c3-4bdf-99d5-658e1ad39200"
      },
      "execution_count": 4,
      "outputs": [
        {
          "output_type": "stream",
          "name": "stdout",
          "text": [
            "Množenje po elementima = [81.  4. 10.  0.  0. 63. 10.  0.  0.  0. 81.  4. 25.  0.  0.]\n",
            " ----- Vrijeme izvršavanja = 0.2334799999998971ms\n"
          ]
        }
      ]
    },
    {
      "cell_type": "markdown",
      "source": [
        "# **2. Korištenje vektorizacija**\n",
        "Ponoviti sljedeće funkcije korištenjem vektorizacije i usporediti vrijeme izvršavanja\n"
      ],
      "metadata": {
        "id": "ILILaQSi-K_q"
      }
    },
    {
      "cell_type": "code",
      "source": [
        "x1 = [9, 2, 5, 0, 0, 7, 5, 0, 0, 0, 9, 2, 5, 0, 0]\n",
        "x2 = [9, 2, 2, 9, 0, 9, 2, 5, 0, 0, 9, 2, 5, 0, 0]"
      ],
      "metadata": {
        "id": "i0htID53pjpU"
      },
      "execution_count": 5,
      "outputs": []
    },
    {
      "cell_type": "code",
      "source": [
        "tic = time.process_time()\n",
        "dot = np.dot(x1,x2)\n",
        "toc = time.process_time()\n",
        "print (\"Skalarni produkt = \" + str(dot) + \"\\n ----- Vrijeme izvršavanja = \" + str(1000*(toc - tic)) + \"ms\")\n",
        "vector_dot=1000*(toc - tic)"
      ],
      "metadata": {
        "colab": {
          "base_uri": "https://localhost:8080/"
        },
        "id": "AJnke5boomPm",
        "outputId": "99c89dac-2dbf-470a-c1e9-a2ebe532e228"
      },
      "execution_count": 6,
      "outputs": [
        {
          "output_type": "stream",
          "name": "stdout",
          "text": [
            "Skalarni produkt = 278\n",
            " ----- Vrijeme izvršavanja = 0.2210629999999103ms\n"
          ]
        }
      ]
    },
    {
      "cell_type": "code",
      "source": [
        "tic = time.process_time()\n",
        "outer = np.outer(x1,x2)\n",
        "toc = time.process_time()\n",
        "print (\"Vanjski produkt = \" + str(outer) + \"\\n ----- Vrijeme izvršavanja = \" + str(1000*(toc - tic)) + \"ms\")\n",
        "vector_outer=1000*(toc-tic)"
      ],
      "metadata": {
        "colab": {
          "base_uri": "https://localhost:8080/"
        },
        "id": "e5z_kUCWomD2",
        "outputId": "b28841c2-b488-4651-a788-55e8d06556d8"
      },
      "execution_count": 7,
      "outputs": [
        {
          "output_type": "stream",
          "name": "stdout",
          "text": [
            "Vanjski produkt = [[81 18 18 81  0 81 18 45  0  0 81 18 45  0  0]\n",
            " [18  4  4 18  0 18  4 10  0  0 18  4 10  0  0]\n",
            " [45 10 10 45  0 45 10 25  0  0 45 10 25  0  0]\n",
            " [ 0  0  0  0  0  0  0  0  0  0  0  0  0  0  0]\n",
            " [ 0  0  0  0  0  0  0  0  0  0  0  0  0  0  0]\n",
            " [63 14 14 63  0 63 14 35  0  0 63 14 35  0  0]\n",
            " [45 10 10 45  0 45 10 25  0  0 45 10 25  0  0]\n",
            " [ 0  0  0  0  0  0  0  0  0  0  0  0  0  0  0]\n",
            " [ 0  0  0  0  0  0  0  0  0  0  0  0  0  0  0]\n",
            " [ 0  0  0  0  0  0  0  0  0  0  0  0  0  0  0]\n",
            " [81 18 18 81  0 81 18 45  0  0 81 18 45  0  0]\n",
            " [18  4  4 18  0 18  4 10  0  0 18  4 10  0  0]\n",
            " [45 10 10 45  0 45 10 25  0  0 45 10 25  0  0]\n",
            " [ 0  0  0  0  0  0  0  0  0  0  0  0  0  0  0]\n",
            " [ 0  0  0  0  0  0  0  0  0  0  0  0  0  0  0]]\n",
            " ----- Vrijeme izvršavanja = 0.267551000000088ms\n"
          ]
        }
      ]
    },
    {
      "cell_type": "code",
      "source": [
        "tic = time.process_time()\n",
        "mul = np.multiply(x1,x2)\n",
        "toc = time.process_time()\n",
        "print (\"Množenje po elementima = \" + str(mul) + \"\\n ----- Vrijeme izvršavanja = \" + str(1000*(toc - tic)) + \"ms\")\n",
        "vector_element=1000*(toc-tic)"
      ],
      "metadata": {
        "colab": {
          "base_uri": "https://localhost:8080/"
        },
        "id": "2EB-N9ylolqz",
        "outputId": "1899870a-dffa-400c-db22-6229c108c67e"
      },
      "execution_count": 8,
      "outputs": [
        {
          "output_type": "stream",
          "name": "stdout",
          "text": [
            "Množenje po elementima = [81  4 10  0  0 63 10  0  0  0 81  4 25  0  0]\n",
            " ----- Vrijeme izvršavanja = 0.1754969999998579ms\n"
          ]
        }
      ]
    },
    {
      "cell_type": "markdown",
      "source": [
        "Prikazivanje brzina izvršavanja"
      ],
      "metadata": {
        "id": "xdncocxMqmt3"
      }
    },
    {
      "cell_type": "code",
      "source": [
        "import matplotlib.pyplot as plt\n",
        " \n",
        "labels = ['Skalarni produkt', 'Vektorski produkt', 'Množenje po elementima']\n",
        "vremana_obicna = [classic_dot,classic_outer,classic_element]\n",
        "vremena_nova = [vector_dot,vector_outer,vector_element]\n",
        "\n",
        "x = np.arange(3)  \n",
        "width = 0.33  \n",
        "\n",
        "fig, ax = plt.subplots()\n",
        "rects1 = ax.bar(x - width/2, vremana_obicna, width, label='Stara')\n",
        "rects2 = ax.bar(x + width/2, vremena_nova, width, label='Nova')\n",
        "\n",
        "ax.set_title('Usporedbe vremena izvršavanja')\n",
        "plt.xticks(x, labels)\n",
        "ax.legend()\n",
        "\n",
        "plt.ylabel(\"Vrijeme izvršavanja\")\n",
        "fig.tight_layout()\n",
        "\n",
        "plt.show()"
      ],
      "metadata": {
        "colab": {
          "base_uri": "https://localhost:8080/",
          "height": 297
        },
        "id": "TBB3JfjfqlrD",
        "outputId": "d05ed2ed-9b13-4154-e174-cfd25f427ccc"
      },
      "execution_count": 9,
      "outputs": [
        {
          "output_type": "display_data",
          "data": {
            "text/plain": [
              "<Figure size 432x288 with 1 Axes>"
            ],
            "image/png": "[encoded data removed]"
          },
          "metadata": {
            "needs_background": "light"
          }
        }
      ]
    },
    {
      "cell_type": "markdown",
      "source": [
        "# Primjer"
      ],
      "metadata": {
        "id": "56Gnf3Fy1PfU"
      }
    },
    {
      "cell_type": "code",
      "source": [
        "a=np.random.rand(50000)"
      ],
      "metadata": {
        "id": "X14YtFFs1Xm6"
      },
      "execution_count": 10,
      "outputs": []
    },
    {
      "cell_type": "code",
      "source": [
        "%%time\n",
        "prod = 0\n",
        "for x in a:\n",
        "\tprod += x * 5"
      ],
      "metadata": {
        "id": "6qflxkLgyCkD",
        "colab": {
          "base_uri": "https://localhost:8080/"
        },
        "outputId": "83249712-e045-4224-cd77-78f3c14df5ab"
      },
      "execution_count": 11,
      "outputs": [
        {
          "output_type": "stream",
          "name": "stdout",
          "text": [
            "CPU times: user 29 ms, sys: 0 ns, total: 29 ms\n",
            "Wall time: 29.2 ms\n"
          ]
        }
      ]
    },
    {
      "cell_type": "code",
      "source": [
        "%%time\n",
        "np.array(a) * 5\n",
        "prod = a.sum()"
      ],
      "metadata": {
        "colab": {
          "base_uri": "https://localhost:8080/"
        },
        "id": "-FJWDtPU1TAT",
        "outputId": "22b69a46-1b1e-44d1-e5db-6ee6ed14a0b7"
      },
      "execution_count": 12,
      "outputs": [
        {
          "output_type": "stream",
          "name": "stdout",
          "text": [
            "CPU times: user 1.61 ms, sys: 927 µs, total: 2.54 ms\n",
            "Wall time: 2.43 ms\n"
          ]
        }
      ]
    },
    {
      "cell_type": "markdown",
      "source": [
        "#Broadcasting"
      ],
      "metadata": {
        "id": "06sGNrVa4jAC"
      }
    },
    {
      "cell_type": "code",
      "source": [
        "%%time\n",
        "arr = np.arange(12).reshape(3,4)\n",
        "\n",
        "col_vector = np.array([5,6,7])\n",
        "\n",
        "num_cols = arr.shape[1]\n",
        "\n",
        "for col in range(num_cols):\n",
        "\tarr[:, col] += col_vector\n"
      ],
      "metadata": {
        "colab": {
          "base_uri": "https://localhost:8080/"
        },
        "id": "1Z5syBV84pD-",
        "outputId": "113145ca-eb11-42e2-99ac-f67cbc9447bc"
      },
      "execution_count": 17,
      "outputs": [
        {
          "output_type": "stream",
          "name": "stdout",
          "text": [
            "CPU times: user 1.99 ms, sys: 0 ns, total: 1.99 ms\n",
            "Wall time: 5.28 ms\n"
          ]
        }
      ]
    },
    {
      "cell_type": "code",
      "source": [
        "%%time \n",
        "col_vector = col_vector.reshape((3, 1)) \n",
        "arr += col_vector   "
      ],
      "metadata": {
        "colab": {
          "base_uri": "https://localhost:8080/"
        },
        "id": "dTsviN5N4qC4",
        "outputId": "82242ea6-1096-461b-abc5-4ab3425f1088"
      },
      "execution_count": 18,
      "outputs": [
        {
          "output_type": "stream",
          "name": "stdout",
          "text": [
            "CPU times: user 78 µs, sys: 0 ns, total: 78 µs\n",
            "Wall time: 83.9 µs\n"
          ]
        }
      ]
    },
    {
      "cell_type": "code",
      "source": [
        "broadcasted_col_vector = np.broadcast_to(col_vector, (3,4))\n",
        "\n",
        "\n",
        "print(broadcasted_col_vector[0,:])  \n",
        "print(broadcasted_col_vector[1,:])   \n",
        "print(broadcasted_col_vector[2,:])   \n"
      ],
      "metadata": {
        "colab": {
          "base_uri": "https://localhost:8080/"
        },
        "id": "nu2vC5D-48Si",
        "outputId": "846c979a-ad2a-495f-fa1c-4a79e57fd58c"
      },
      "execution_count": 19,
      "outputs": [
        {
          "output_type": "stream",
          "name": "stdout",
          "text": [
            "[5 5 5 5]\n",
            "[6 6 6 6]\n",
            "[7 7 7 7]\n"
          ]
        }
      ]
    },
    {
      "cell_type": "code",
      "source": [
        "%%time\n",
        "sum  = 0\n",
        "\n",
        "arr1 = np.array([1, 2, 3,4,5,6,7,8,8,9,5,88,8,5,5,5,8])\n",
        "arr2 = np.array([4, 5,0,5,5,6,5,5,7,5,7,5,7,5,4,4,4,4,8,6,8,9,10,11,21,55])\n",
        "for i in arr1:\n",
        "  for j in arr2:\n",
        "    sum += i*j"
      ],
      "metadata": {
        "colab": {
          "base_uri": "https://localhost:8080/"
        },
        "id": "tTb4oFND7ocq",
        "outputId": "1269600a-2f0a-4c6e-be01-27e649cb9ac8"
      },
      "execution_count": 43,
      "outputs": [
        {
          "output_type": "stream",
          "name": "stdout",
          "text": [
            "CPU times: user 267 µs, sys: 3 µs, total: 270 µs\n",
            "Wall time: 278 µs\n"
          ]
        }
      ]
    },
    {
      "cell_type": "code",
      "source": [
        "%%time\n",
        "arr1 = arr1[:, None] \n",
        "arr2 = arr2[None, :]  \n",
        " \n",
        "sum = (arr1 * arr2).sum()"
      ],
      "metadata": {
        "colab": {
          "base_uri": "https://localhost:8080/"
        },
        "id": "QSYpnjrF8Jd9",
        "outputId": "afcd10fe-496d-4d20-b982-f8c429dbc4bd"
      },
      "execution_count": 44,
      "outputs": [
        {
          "output_type": "stream",
          "name": "stdout",
          "text": [
            "CPU times: user 118 µs, sys: 0 ns, total: 118 µs\n",
            "Wall time: 125 µs\n"
          ]
        }
      ]
    },
    {
      "cell_type": "code",
      "source": [
        "a=np.array([1,2,3])\n",
        "b=np.array([4,5])\n",
        "a=a.reshape(3,1)\n",
        "b=b.reshape(1,2)\n",
        "sum=(a*b).sum()\n",
        "sum"
      ],
      "metadata": {
        "colab": {
          "base_uri": "https://localhost:8080/"
        },
        "id": "UC0VmK-n8Xw_",
        "outputId": "dea3070d-f5f5-4a56-f182-a5ef6c5d6d87"
      },
      "execution_count": 49,
      "outputs": [
        {
          "output_type": "execute_result",
          "data": {
            "text/plain": [
              "54"
            ]
          },
          "metadata": {},
          "execution_count": 49
        }
      ]
    }
  ]
}